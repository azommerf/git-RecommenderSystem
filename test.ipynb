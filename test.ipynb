{
 "cells": [
  {
   "cell_type": "code",
   "execution_count": 1,
   "metadata": {},
   "outputs": [
    {
     "name": "stdout",
     "output_type": "stream",
     "text": [
      "creating dataframe\n",
      "created successfully\n",
      "   customer_id  product_id  star_rating\n",
      "0     25933450  0439873800            5\n",
      "1      1801372  1623953553            5\n",
      "2      5782091  142151981X            5\n",
      "3     32715830  014241543X            5\n",
      "4     14005703  1604600527            5\n"
     ]
    }
   ],
   "source": [
    "import program.app_modules as rs\n",
    "import os\n",
    "import pandas as pd\n",
    "import numpy as np\n",
    "\n",
    "# url = \"https://s3.amazonaws.com/amazon-reviews-pds/tsv/amazon_reviews_us_Wireless_v1_00.tsv.gz\"\n",
    "url = \"https://s3.amazonaws.com/amazon-reviews-pds/tsv/amazon_reviews_us_Books_v1_00.tsv.gz\"\n",
    "# url = \"https://s3.amazonaws.com/amazon-reviews-pds/tsv/amazon_reviews_us_Musical_Instruments_v1_00.tsv.gz\"\n",
    "\n",
    "filename = url.split('/')[-1]\n",
    "workingdir = os.path.abspath('')\n",
    "datadir = \"program/data\" # Directory where data is stored\n",
    "filepath_tsvgz = os.path.join(workingdir, datadir, filename)\n",
    "filepath_tsv = filepath_tsvgz[0:-3]\n",
    "\n",
    "print(\"creating dataframe\")\n",
    "\n",
    "\n",
    "def conv(val):\n",
    "    if not val:\n",
    "        return 0    \n",
    "    try:\n",
    "        return np.int8(val)\n",
    "    except:        \n",
    "        return np.int8(0)\n",
    "\n",
    "usecols = ['customer_id','product_id','star_rating']\n",
    "dtype = {'customer_id':str, 'product_id':str, 'star_rating':int}\n",
    "\n",
    "df = pd.read_csv(filepath_tsvgz,\\\n",
    "                delimiter='\\t',\\\n",
    "                encoding=\"utf-8\",\\\n",
    "                error_bad_lines=False,\\\n",
    "                compression='gzip',\\\n",
    "                #dtype=dtype,\\\n",
    "                usecols=usecols,\\\n",
    "                #low_memory=False,\\\n",
    "                converters={'star_rating':conv})\n",
    "# Clean dataframe\n",
    "df = df[df['star_rating'].isin([0,1,2,3,4,5])]\n",
    "df.astype({'star_rating':np.int8})\n",
    "\n",
    "print(\"created successfully\")\n",
    "print(df.head())"
   ]
  },
  {
   "cell_type": "code",
   "execution_count": 32,
   "metadata": {},
   "outputs": [
    {
     "ename": "OSError",
     "evalue": "[Errno 22] Invalid argument: 'temp_np.npy'",
     "output_type": "error",
     "traceback": [
      "\u001b[1;31m---------------------------------------------------------------------------\u001b[0m",
      "\u001b[1;31mOSError\u001b[0m                                   Traceback (most recent call last)",
      "\u001b[1;32m<ipython-input-32-73f4e241a904>\u001b[0m in \u001b[0;36m<module>\u001b[1;34m\u001b[0m\n\u001b[0;32m     11\u001b[0m \u001b[1;33m\u001b[0m\u001b[0m\n\u001b[0;32m     12\u001b[0m \u001b[1;31m# initialize an empty 10TB memory-mapped array\u001b[0m\u001b[1;33m\u001b[0m\u001b[1;33m\u001b[0m\u001b[1;33m\u001b[0m\u001b[0m\n\u001b[1;32m---> 13\u001b[1;33m \u001b[0mx5\u001b[0m \u001b[1;33m=\u001b[0m \u001b[0mopen_memmap\u001b[0m\u001b[1;33m(\u001b[0m\u001b[0mfilename\u001b[0m\u001b[1;33m,\u001b[0m \u001b[0mmode\u001b[0m\u001b[1;33m=\u001b[0m\u001b[1;34m'w+'\u001b[0m\u001b[1;33m,\u001b[0m \u001b[0mdtype\u001b[0m\u001b[1;33m=\u001b[0m\u001b[0mnp\u001b[0m\u001b[1;33m.\u001b[0m\u001b[0mubyte\u001b[0m\u001b[1;33m,\u001b[0m \u001b[0mshape\u001b[0m\u001b[1;33m=\u001b[0m\u001b[1;33m(\u001b[0m\u001b[1;36m10\u001b[0m\u001b[1;33m**\u001b[0m\u001b[1;36m6\u001b[0m\u001b[1;33m,\u001b[0m\u001b[1;33m)\u001b[0m\u001b[1;33m)\u001b[0m\u001b[1;33m\u001b[0m\u001b[1;33m\u001b[0m\u001b[0m\n\u001b[0m\u001b[0;32m     14\u001b[0m \u001b[0mprint\u001b[0m\u001b[1;33m(\u001b[0m\u001b[1;34m\"done\"\u001b[0m\u001b[1;33m)\u001b[0m\u001b[1;33m\u001b[0m\u001b[1;33m\u001b[0m\u001b[0m\n",
      "\u001b[1;32m~\\Anaconda3\\lib\\site-packages\\numpy\\lib\\format.py\u001b[0m in \u001b[0;36mopen_memmap\u001b[1;34m(filename, mode, dtype, shape, fortran_order, version)\u001b[0m\n\u001b[0;32m    771\u001b[0m         )\n\u001b[0;32m    772\u001b[0m         \u001b[1;31m# If we got here, then it should be safe to create the file.\u001b[0m\u001b[1;33m\u001b[0m\u001b[1;33m\u001b[0m\u001b[1;33m\u001b[0m\u001b[0m\n\u001b[1;32m--> 773\u001b[1;33m         \u001b[0mfp\u001b[0m \u001b[1;33m=\u001b[0m \u001b[0mopen\u001b[0m\u001b[1;33m(\u001b[0m\u001b[0mfilename\u001b[0m\u001b[1;33m,\u001b[0m \u001b[0mmode\u001b[0m\u001b[1;33m+\u001b[0m\u001b[1;34m'b'\u001b[0m\u001b[1;33m)\u001b[0m\u001b[1;33m\u001b[0m\u001b[1;33m\u001b[0m\u001b[0m\n\u001b[0m\u001b[0;32m    774\u001b[0m         \u001b[1;32mtry\u001b[0m\u001b[1;33m:\u001b[0m\u001b[1;33m\u001b[0m\u001b[1;33m\u001b[0m\u001b[0m\n\u001b[0;32m    775\u001b[0m             \u001b[0mused_ver\u001b[0m \u001b[1;33m=\u001b[0m \u001b[0m_write_array_header\u001b[0m\u001b[1;33m(\u001b[0m\u001b[0mfp\u001b[0m\u001b[1;33m,\u001b[0m \u001b[0md\u001b[0m\u001b[1;33m,\u001b[0m \u001b[0mversion\u001b[0m\u001b[1;33m)\u001b[0m\u001b[1;33m\u001b[0m\u001b[1;33m\u001b[0m\u001b[0m\n",
      "\u001b[1;31mOSError\u001b[0m: [Errno 22] Invalid argument: 'temp_np.npy'"
     ]
    }
   ],
   "source": [
    "# Clean dataframe\n",
    "#df = df[df['star_rating'].isin([0,1,2,3,4,5])]\n",
    "#df.astype({'star_rating':np.int8})\n",
    "#df.astype({'customer_id':np.str})\n",
    "#df.astype({'product_id':np.str})\n",
    "\n",
    "\n",
    "from numpy.lib.format import open_memmap\n",
    "\n",
    "filename=\"temp_np.npy\"\n",
    "\n",
    "# initialize an empty 10TB memory-mapped array\n",
    "x5 = open_memmap(filename, mode='w+', dtype=np.ubyte, shape=(10**6,))\n",
    "print(\"done\")"
   ]
  },
  {
   "cell_type": "code",
   "execution_count": 26,
   "metadata": {},
   "outputs": [
    {
     "ename": "ValueError",
     "evalue": "could not broadcast input array from shape (10237176) into shape (1000000)",
     "output_type": "error",
     "traceback": [
      "\u001b[1;31m---------------------------------------------------------------------------\u001b[0m",
      "\u001b[1;31mValueError\u001b[0m                                Traceback (most recent call last)",
      "\u001b[1;32m<ipython-input-26-44a6693bdf5b>\u001b[0m in \u001b[0;36m<module>\u001b[1;34m\u001b[0m\n\u001b[1;32m----> 1\u001b[1;33m \u001b[0mx1\u001b[0m\u001b[1;33m[\u001b[0m\u001b[1;33m:\u001b[0m\u001b[1;33m]\u001b[0m \u001b[1;33m=\u001b[0m \u001b[0mdf\u001b[0m\u001b[1;33m[\u001b[0m\u001b[1;34m'customer_id'\u001b[0m\u001b[1;33m]\u001b[0m\u001b[1;33m\u001b[0m\u001b[1;33m\u001b[0m\u001b[0m\n\u001b[0m",
      "\u001b[1;31mValueError\u001b[0m: could not broadcast input array from shape (10237176) into shape (1000000)"
     ]
    }
   ],
   "source": [
    "x1[:] = df['customer_id']"
   ]
  },
  {
   "cell_type": "code",
   "execution_count": null,
   "metadata": {},
   "outputs": [],
   "source": [
    "from numpy.lib.format import open_memmap\n",
    "\n",
    "df_mem = np.memmap(filename, dtype='float32', mode='w+', shape=(10**10,))\n"
   ]
  },
  {
   "cell_type": "code",
   "execution_count": 2,
   "metadata": {},
   "outputs": [
    {
     "name": "stdout",
     "output_type": "stream",
     "text": [
      "success 1\n",
      "Number of unique products: 2264791\n",
      "Number of unique customers: 4608176\n",
      "success 2\n",
      "success 2.1\n",
      "success 3\n",
      "success 3.1\n",
      "success 4\n",
      "success 4.1\n",
      "...creating sparse matrix...\n"
     ]
    }
   ],
   "source": [
    "from scipy.sparse import csr_matrix, save_npz, load_npz # Sparse matrix\n",
    "from sklearn.neighbors import NearestNeighbors\n",
    "\n",
    "# Calculate total number of products and customers (for range calculation)\n",
    "print(\"success 1\")\n",
    "prodNo = len(set(df[\"product_id\"])) # Number of products\n",
    "custNo = len(set(df[\"customer_id\"])) # Number of customers\n",
    "print(\"Number of unique products: {}\".format(prodNo))\n",
    "print(\"Number of unique customers: {}\".format(custNo))\n",
    "\n",
    "# Get unique product and customer IDs and index them\n",
    "print(\"success 2\")\n",
    "prodUnique_indexed = dict(zip(np.unique(df[\"product_id\"]), list(range(prodNo))))\n",
    "custUnique_indexed = dict(zip(np.unique(df[\"customer_id\"]), list(range(custNo))))\n",
    "prodUnique_reverseIndexed = dict(zip(list(range(prodNo)), np.unique(df[\"product_id\"])))\n",
    "custUnique_reverseIndexed = dict(zip(list(range(custNo)), np.unique(df[\"customer_id\"])))\n",
    "print(\"success 2.1\")\n",
    "\n",
    "# Finally go through each row of dataframe and assign index \n",
    "print(\"success 3\")\n",
    "custIndex = [custUnique_indexed[i] for i in df[\"customer_id\"]]\n",
    "prodIndex = [prodUnique_indexed[i] for i in df[\"product_id\"]]\n",
    "print(\"success 3.1\")\n",
    "\n",
    "# Create indexed matrix\n",
    "print(\"success 4\")\n",
    "df_custIndex = pd.DataFrame(custIndex, columns=[\"custIndex\"])\n",
    "df_prodIndex = pd.DataFrame(prodIndex, columns=[\"prodIndex\"])\n",
    "df_indexed = pd.DataFrame(df[\"star_rating\"], columns=[\"star_rating\"])\n",
    "df_indexed.insert(0, \"prodIndex\", df_prodIndex)\n",
    "df_indexed.insert(0, \"custIndex\", df_custIndex)\n",
    "print(\"success 4.1\")\n",
    "\n",
    "# Create the sparse matrix based on a matrix with dimensions:\n",
    "# (no. of unique products x no. of unique customres).\n",
    "# Description from official scipy documentation:\n",
    "# csr_matrix((data, (row_ind, col_ind)), [shape=(M, N)])\n",
    "# where data, row_ind and col_ind satisfy the relationship a[row_ind[k], col_ind[k]] = data[k].\n",
    "\n",
    "print(\"...creating sparse matrix...\")\n",
    "df_csr = csr_matrix((df_indexed[\"star_rating\"], (prodIndex, custIndex)), shape=(prodNo, custNo))\n",
    "\n",
    "msg = \"\\nFitted the KNN model successfully.\""
   ]
  },
  {
   "cell_type": "code",
   "execution_count": null,
   "metadata": {},
   "outputs": [],
   "source": []
  }
 ],
 "metadata": {
  "kernelspec": {
   "display_name": "Python 3",
   "language": "python",
   "name": "python3"
  },
  "language_info": {
   "codemirror_mode": {
    "name": "ipython",
    "version": 3
   },
   "file_extension": ".py",
   "mimetype": "text/x-python",
   "name": "python",
   "nbconvert_exporter": "python",
   "pygments_lexer": "ipython3",
   "version": "3.7.1"
  }
 },
 "nbformat": 4,
 "nbformat_minor": 2
}
