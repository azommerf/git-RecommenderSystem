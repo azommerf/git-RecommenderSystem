{
 "cells": [
  {
   "cell_type": "markdown",
   "metadata": {},
   "source": [
    "# CPSC 340 Assignment 6"
   ]
  },
  {
   "cell_type": "code",
   "execution_count": null,
   "metadata": {
    "collapsed": true
   },
   "outputs": [],
   "source": [
    "import os\n",
    "import numpy as np\n",
    "import pandas as pd\n",
    "import matplotlib.pyplot as plt\n",
    "import seaborn as sns\n",
    "sns.set(style=\"ticks\")\n",
    "%matplotlib inline\n",
    "\n",
    "from scipy.sparse import csr_matrix as sparse_matrix\n",
    "\n",
    "from sklearn.neighbors import NearestNeighbors\n",
    "from sklearn.decomposition import TruncatedSVD\n",
    "from sklearn.model_selection import train_test_split\n",
    "from sklearn.dummy import DummyClassifier\n",
    "from sklearn.linear_model import LogisticRegression\n",
    "from sklearn.preprocessing import LabelBinarizer\n",
    "from sklearn.neural_network import MLPClassifier\n",
    "from sklearn.naive_bayes import BernoulliNB\n",
    "from sklearn.tree import DecisionTreeClassifier\n",
    "from sklearn.ensemble import RandomForestClassifier"
   ]
  },
  {
   "cell_type": "markdown",
   "metadata": {},
   "source": [
    "## Instructions\n",
    "rubric={mechanics:5}\n",
    "\n",
    "\n",
    "The above points are allocated for following the [homework submission instructions](https://github.ugrad.cs.ubc.ca/CPSC340-2017W-T2/home/blob/master/homework_instructions.md)."
   ]
  },
  {
   "cell_type": "markdown",
   "metadata": {},
   "source": [
    "## Exercise 1: Finding similar items\n",
    "\n",
    "For this question we'll be using the [Amazon product data set](http://jmcauley.ucsd.edu/data/amazon/). The author of the data set has asked for the following citations:\n",
    "\n",
    "> Ups and downs: Modeling the visual evolution of fashion trends with one-class collaborative filtering.\n",
    "> R. He, J. McAuley.\n",
    "> WWW, 2016.\n",
    "> \n",
    "> Image-based recommendations on styles and substitutes.\n",
    "> J. McAuley, C. Targett, J. Shi, A. van den Hengel.\n",
    "> SIGIR, 2015.\n",
    "\n",
    "We will focus on the \"Patio, Lawn, and Garden\" section. Download the [ratings](http://snap.stanford.edu/data/amazon/productGraph/categoryFiles/ratings_Patio_Lawn_and_Garden.csv) and place the file in the `data` directory with the original filename. Once you do that, the code below should load the data:"
   ]
  },
  {
   "cell_type": "code",
   "execution_count": null,
   "metadata": {
    "collapsed": true
   },
   "outputs": [],
   "source": [
    "filename = \"ratings_Patio_Lawn_and_Garden.csv\"\n",
    "\n",
    "with open(os.path.join(\"..\", \"data\", filename), \"rb\") as f:\n",
    "    ratings = pd.read_csv(f,names=(\"user\",\"item\",\"rating\",\"timestamp\"))\n",
    "ratings.head()"
   ]
  },
  {
   "cell_type": "markdown",
   "metadata": {},
   "source": [
    "We'd also like to construct the user-product matrix `X`. Let's see how big it would be:"
   ]
  },
  {
   "cell_type": "code",
   "execution_count": null,
   "metadata": {
    "collapsed": true
   },
   "outputs": [],
   "source": [
    "def get_stats(ratings, item_key=\"item\", user_key=\"user\"):\n",
    "    print(\"Number of ratings:\", len(ratings))\n",
    "    print(\"The average rating:\", np.mean(ratings[\"rating\"]))\n",
    "\n",
    "    d = len(set(ratings[item_key]))\n",
    "    n = len(set(ratings[user_key]))\n",
    "    print(\"Number of users:\", n)\n",
    "    print(\"Number of items:\", d)\n",
    "    print(\"Fraction nonzero:\", len(ratings)/(n*d))\n",
    "    print(\"Size of full X matrix: %.2f GB\" % ((n*d)*8/1e9))\n",
    "\n",
    "    return n,d\n",
    "\n",
    "n,d = get_stats(ratings)"
   ]
  },
  {
   "cell_type": "markdown",
   "metadata": {},
   "source": [
    "600 GB! That is way too big. We don't want to create that matrix. On the other hand, we see that we only have about 1 million ratings, which would be around 8 MB ($10^6$ numbers $\\times$ at 8 bytes per double precision floating point number). Much more manageable. "
   ]
  },
  {
   "cell_type": "code",
   "execution_count": 88,
   "metadata": {
    "collapsed": true
   },
   "outputs": [],
   "source": [
    "def create_X(ratings,n,d,user_key=\"user\",item_key=\"item\"):\n",
    "    user_mapper = dict(zip(np.unique(ratings[user_key]), list(range(n))))\n",
    "    item_mapper = dict(zip(np.unique(ratings[item_key]), list(range(d))))\n",
    "\n",
    "    user_inverse_mapper = dict(zip(list(range(n)), np.unique(ratings[user_key])))\n",
    "    item_inverse_mapper = dict(zip(list(range(d)), np.unique(ratings[item_key])))\n",
    "\n",
    "    user_ind = [user_mapper[i] for i in ratings[user_key]]\n",
    "    item_ind = [item_mapper[i] for i in ratings[item_key]]\n",
    "\n",
    "    X = sparse_matrix((ratings[\"rating\"], (user_ind, item_ind)), shape=(n,d))\n",
    "    \n",
    "    return X, user_mapper, item_mapper, user_inverse_mapper, item_inverse_mapper, user_ind, item_ind\n",
    "\n",
    "X, user_mapper, item_mapper, user_inverse_mapper, item_inverse_mapper, user_ind, item_ind = create_X(ratings, n, d)"
   ]
  },
  {
   "cell_type": "code",
   "execution_count": 89,
   "metadata": {},
   "outputs": [
    {
     "name": "stdout",
     "output_type": "stream",
     "text": [
      "(714791, 105984)\n",
      "993490\n"
     ]
    }
   ],
   "source": [
    "# sanity check\n",
    "print(X.shape) # should be number of users by number of items\n",
    "print(X.nnz)   # number of nonzero elements -- should equal number of ratings"
   ]
  },
  {
   "cell_type": "code",
   "execution_count": 90,
   "metadata": {},
   "outputs": [
    {
     "data": {
      "text/plain": [
       "7947920"
      ]
     },
     "execution_count": 90,
     "metadata": {},
     "output_type": "execute_result"
    }
   ],
   "source": [
    "X.data.nbytes"
   ]
  },
  {
   "cell_type": "markdown",
   "metadata": {},
   "source": [
    "(Above: verifying our estimate of 8 MB to store sparse `X`)"
   ]
  },
  {
   "cell_type": "markdown",
   "metadata": {},
   "source": [
    "### 1.1\n",
    "rubric={reasoning:2}\n",
    "\n",
    "Find the following items:\n",
    "\n",
    "1. the item with the most reviews\n",
    "2. the item with the most total stars\n",
    "3. the item with the highest average stars\n",
    "\n",
    "Then, find the names of these items by looking them up with the url https://www.amazon.com/dp/ITEM_ID, where `ITEM_ID` is the id of the item."
   ]
  },
  {
   "cell_type": "code",
   "execution_count": 91,
   "metadata": {},
   "outputs": [
    {
     "name": "stdout",
     "output_type": "stream",
     "text": [
      "https://www.amazon.com/dp/B00CFM0P7Y\n"
     ]
    }
   ],
   "source": [
    "url_amazon = \"https://www.amazon.com/dp/%s\"\n",
    "\n",
    "# example:\n",
    "print(url_amazon % 'B00CFM0P7Y')"
   ]
  },
  {
   "cell_type": "code",
   "execution_count": 92,
   "metadata": {},
   "outputs": [
    {
     "name": "stdout",
     "output_type": "stream",
     "text": [
      "1: https://www.amazon.com/dp/B000HCLLMM\n",
      "2: https://www.amazon.com/dp/B000HCLLMM\n",
      "3: https://www.amazon.com/dp/0981850006\n"
     ]
    }
   ],
   "source": [
    "n,d = X.shape;\n",
    "index_1 = np.argmax(X.getnnz(0));\n",
    "item_1 = item_inverse_mapper[index_1];\n",
    "print('1:', url_amazon % item_1)\n",
    "\n",
    "index_2 = np.argmax(X.sum(0));\n",
    "item_2 = item_inverse_mapper[index_2];\n",
    "print('2:', url_amazon % item_2);\n",
    "\n",
    "index_3 = np.argmax(np.divide(X.sum(0),X.getnnz(0)));\n",
    "item_3 = item_inverse_mapper[index_3];\n",
    "print('3:', url_amazon % item_3);\n"
   ]
  },
  {
   "cell_type": "markdown",
   "metadata": {},
   "source": [
    "The names are:\n",
    "1. Classic Accessories 73942 Veranda Grill Cover - Durable BBQ Cover with Heavy-Duty Weather Resistant Fabric, X-Large, 70-Inch\n",
    "2. Classic Accessories 73942 Veranda Grill Cover - Durable BBQ Cover with Heavy-Duty Weather Resistant Fabric, X-Large, 70-Inch (1 and 2 are the same)\n",
    "3. Primal Grill with Steven Raichlen, Volume One"
   ]
  },
  {
   "cell_type": "raw",
   "metadata": {},
   "source": [
    "### 1.2\n",
    "rubric={reasoning:2}"
   ]
  },
  {
   "cell_type": "markdown",
   "metadata": {},
   "source": [
    "Make the following histograms \n",
    "\n",
    "1. The number of ratings per user\n",
    "2. The number of ratings per item\n",
    "3. The ratings themselves\n",
    "\n",
    "For the first two, use\n",
    "```\n",
    "plt.yscale('log', nonposy='clip')\n",
    "``` \n",
    "to put the histograms on a log-scale."
   ]
  },
  {
   "cell_type": "code",
   "execution_count": 93,
   "metadata": {},
   "outputs": [
    {
     "name": "stdout",
     "output_type": "stream",
     "text": [
      "histogram 1:\n"
     ]
    },
    {
     "data": {
      "image/png": "[encoded data removed]",
      "text/plain": [
       "<matplotlib.figure.Figure at 0x1a32c316a0>"
      ]
     },
     "metadata": {},
     "output_type": "display_data"
    },
    {
     "name": "stdout",
     "output_type": "stream",
     "text": [
      "histogram 2:\n"
     ]
    },
    {
     "data": {
      "image/png": "[encoded data removed]",
      "text/plain": [
       "<matplotlib.figure.Figure at 0x1a0fae0940>"
      ]
     },
     "metadata": {},
     "output_type": "display_data"
    },
    {
     "name": "stdout",
     "output_type": "stream",
     "text": [
      "histogram 3:\n"
     ]
    },
    {
     "data": {
      "image/png": "[encoded data removed]",
      "text/plain": [
       "<matplotlib.figure.Figure at 0x1a36da2f28>"
      ]
     },
     "metadata": {},
     "output_type": "display_data"
    }
   ],
   "source": [
    "print('histogram 1:');\n",
    "ratings_per_user = X.getnnz(1);\n",
    "plt.hist(ratings_per_user);\n",
    "plt.xlabel('number of ratings per user');\n",
    "plt.ylabel('frequency');\n",
    "plt.yscale('log',nonposy='clip');\n",
    "plt.show();\n",
    "\n",
    "print('histogram 2:');\n",
    "ratings_per_item = X.getnnz(0);\n",
    "plt.hist(ratings_per_item);\n",
    "plt.xlabel('number of ratings per item');\n",
    "plt.ylabel('frequency');\n",
    "plt.yscale('log',nonposy='clip');\n",
    "plt.show();\n",
    "\n",
    "print('histogram 3:');\n",
    "ratings_ = X.data;\n",
    "plt.hist(ratings_);\n",
    "plt.xlabel('ratings');\n",
    "plt.ylabel('frequency');\n",
    "plt.show();"
   ]
  },
  {
   "cell_type": "markdown",
   "metadata": {},
   "source": [
    "### 1.3\n",
    "rubric={reasoning:1}\n",
    "\n",
    "Use scikit-learn's [NearestNeighbors](http://scikit-learn.org/stable/modules/generated/sklearn.neighbors.NearestNeighbors.html) object (which uses Euclidean distance by default) to find the 5 items most similar to [Brass Grill Brush 18 Inch Heavy Duty and Extra Strong, Solid Oak Handle](https://www.amazon.com/dp/B00CFM0P7Y). \n",
    "\n",
    "The code block below grabs the row of `X` associated with the grill brush. The mappers take care of going back and forther between the IDs (like `B00CFM0P7Y`) and the indices of the sparse array (0,1,2,...).\n",
    "\n",
    "Note: keep in mind that `NearestNeighbors` is for taking neighbors across rows, but here we're working across columns."
   ]
  },
  {
   "cell_type": "code",
   "execution_count": 94,
   "metadata": {},
   "outputs": [
    {
     "name": "stdout",
     "output_type": "stream",
     "text": [
      "https://www.amazon.com/dp/B00CFM0P7Y\n"
     ]
    }
   ],
   "source": [
    "grill_brush = \"B00CFM0P7Y\"\n",
    "grill_brush_ind = item_mapper[grill_brush]\n",
    "grill_brush_vec = X[:,grill_brush_ind]\n",
    "\n",
    "print(url_amazon % grill_brush)"
   ]
  },
  {
   "cell_type": "code",
   "execution_count": 95,
   "metadata": {},
   "outputs": [
    {
     "name": "stdout",
     "output_type": "stream",
     "text": [
      "https://www.amazon.com/dp/B00743MZCM\n",
      "https://www.amazon.com/dp/B00CFM0P7Y\n",
      "https://www.amazon.com/dp/B00EXE4O42\n",
      "https://www.amazon.com/dp/B00HVXQY9A\n",
      "https://www.amazon.com/dp/B00IJB4MLA\n",
      "https://www.amazon.com/dp/B00IJB5MCS\n"
     ]
    }
   ],
   "source": [
    "X_transpose = X.T;\n",
    "nn = 5;\n",
    "neigh = NearestNeighbors(nn + 1);\n",
    "neigh.fit(X_transpose);\n",
    "A = neigh.kneighbors_graph(grill_brush_vec.T,6).toarray();\n",
    "indices_euclidean = A.nonzero()[1];\n",
    "for index in indices_euclidean:\n",
    "    item = item_inverse_mapper[index];\n",
    "    print(url_amazon % item)\n"
   ]
  },
  {
   "cell_type": "markdown",
   "metadata": {},
   "source": [
    "Names of the 5 most similar items (excluding the item itself):\n",
    "* For B00743MZCM, the item was not found :(\n",
    "* Syndicate Sales 9 1/2\" Catalina Bowl, Black\n",
    "* For B00HVXQY9A, the item was not found :(\n",
    "* GrillHogs Basting Mop with Replacement Head, 18 Inch Handle with Machine Washable Heads\n",
    "* Mr Grill - 18\" Luxury Oak Barbecue Spatula / Turner"
   ]
  },
  {
   "cell_type": "markdown",
   "metadata": {},
   "source": [
    "### 1.4\n",
    "rubric={reasoning:1}\n",
    "\n",
    "Using cosine similarity instead of Euclidean distance in `NearestNeighbors`, find the 5 products most similar to `B00CFM0P7Y`."
   ]
  },
  {
   "cell_type": "code",
   "execution_count": 96,
   "metadata": {},
   "outputs": [
    {
     "name": "stdout",
     "output_type": "stream",
     "text": [
      "https://www.amazon.com/dp/B00CFM0P7Y\n",
      "https://www.amazon.com/dp/B00EF3YF0Y\n",
      "https://www.amazon.com/dp/B00EF45AHU\n",
      "https://www.amazon.com/dp/B00IJB4MLA\n",
      "https://www.amazon.com/dp/B00IJB5MCS\n",
      "https://www.amazon.com/dp/B00IJB8F3G\n"
     ]
    }
   ],
   "source": [
    "X_transpose = X.T;\n",
    "nn = 5;\n",
    "neigh = NearestNeighbors(n_neighbors = nn + 1, metric = 'cosine');\n",
    "neigh.fit(X_transpose);\n",
    "A = neigh.kneighbors_graph(grill_brush_vec.T,6).toarray();\n",
    "indices_cosine = A.nonzero()[1];\n",
    "for index in indices_cosine:\n",
    "    item = item_inverse_mapper[index];\n",
    "    print(url_amazon % item)"
   ]
  },
  {
   "cell_type": "markdown",
   "metadata": {},
   "source": [
    "Names of the 5 most similar items (excluding the item itself):\n",
    "* Mr Grill Silicone Oven Gloves Heat Resistant to 425°F / 218°C - Slip Resistant - Unlined and Dishwasher Washable\n",
    "* GrillHogs Marinade Injector Stainless Steel with 3 Marinade Needles\n",
    "* GrillHogs Basting Mop with Replacement Head, 18 Inch Handle with Machine Washable Heads\n",
    "* Mr Grill - 18\" Luxury Oak Barbecue Spatula / Turner\n",
    "* GRILLHOGS Luxury Barbecue Grill Tongs 16 Inch, Oak and Stainless Steel"
   ]
  },
  {
   "cell_type": "markdown",
   "metadata": {},
   "source": [
    "### 1.5\n",
    "rubric={reasoning:2}\n",
    "\n",
    "For each of the two metrics, compute the compute the total popularity (total stars) of each of the 5 items and report it. Do the results make sense given what we discussed in class about Euclidean distance vs. cosine similarity? \n"
   ]
  },
  {
   "cell_type": "code",
   "execution_count": 97,
   "metadata": {},
   "outputs": [
    {
     "name": "stdout",
     "output_type": "stream",
     "text": [
      "total number of stars of the grill brush:  1244.0\n",
      "[[    5.  1244.     5.     5.   205.   266.]]\n",
      "[[ 1244.   513.   311.   205.   266.   438.]]\n"
     ]
    }
   ],
   "source": [
    "#total stars of the item itself\n",
    "print('total number of stars of the grill brush: ',np.sum(X[:,grill_brush_ind]));\n",
    "\n",
    "# total popularities of nearest neighbors using Euclidean distance\n",
    "popularities_euclidean = np.sum(X[:,indices_euclidean], axis = 0);\n",
    "print(popularities_euclidean);\n",
    "\n",
    "# total popularities of nearest neighbors using Cosine similarity\n",
    "popularities_cosine = np.sum(X[:,indices_cosine], axis = 0);\n",
    "print(popularities_cosine);"
   ]
  },
  {
   "cell_type": "markdown",
   "metadata": {},
   "source": [
    "(note that in the arrays, 1244 represents the total number of stars of the item itself)        \n",
    "Then for NearestNeighbors with Euclidean distance, the total popularity values of the 5 nearest neighbors are \n",
    "5, 5, 5, 205 and 266.           \n",
    "For NearestNeighbors with Cosine similarity, the total popularity values of the 5 nearest neigbors are \n",
    "513, 311, 205, 266 and 438. Thus in this set we no longer have the items which only have a handful (at most) of reviews - all of these neighbors have been reviewed a fair number of times.       \n",
    "\n",
    "It makes sense that the KNNs from cosine similarity have higher total popularities, i.e. closer to that of our original item, as cosine similarity uses the dot product, and those items will have more nonzero entries, i.e. more entries in common with our original item, which makes the cosine similarity larger and thus leads to them being ranked as the k closest neighbours. Items with only a handful of reviews (like the ones we got using the Euclidean distance) will produce very small cosine similarity, as the dot product will be small due to the small number of nonzero terms."
   ]
  },
  {
   "cell_type": "markdown",
   "metadata": {},
   "source": [
    "### 1.6\n",
    "rubric={reasoning:3}\n",
    "\n",
    "PCA gives us an approximation $X \\approx ZW$ where the rows of $Z$ contain a length-$k$ latent feature vectors for each user and the columns of $W$ contain a length-$k$ latent feature vectors for each item.\n",
    "\n",
    "Another strategy for finding similar items is to run PCA and then search for nearest neighbours with Euclidean distance in the latent feature space, which is hopefully more meaningful than the original \"user rating space\". In other words, we run nearest neighbors on the columns of $W$. Using $k=10$ and scikit-learn's [TruncatedSVD](http://scikit-learn.org/stable/modules/generated/sklearn.decomposition.TruncatedSVD.html) to perform the dimensionality reduction, find the 5 nearest neighbours to the grill brush using this method. You can access $W$ via the `components_` field of the `TruncatedSVD` object, after you fit it to the data. \n",
    "\n",
    "Briefly comment on your results.\n",
    "\n",
    "Implementation note: when you call on `NearestNeighbors.kneighbors`, it expects the input to be a 2D array. There's some weirdness here because `X` is a scipy sparse matrix but your `W` will be a dense matrix, and they behave differently in subtle ways. If you get an error like \"Expected 2D array, got 1D array instead\" then this is your problem: a column of `W` is technically a 1D array but a column of `X` has dimension $1\\times n$, which is technically a 2D array. You can take a 1D numpy array and add an extra first dimension to it with `array[None]`.\n",
    "\n",
    "Conceptual note 1: We are using the \"truncated\" rather than full SVD since a full SVD would involve dense $d\\times d$ matrices, which we've already established are too big to deal with. And then we'd only use the first $k$ rows of it anyway. So a full SVD would be both impossible and pointless.\n",
    "\n",
    "Conceptual note 2: as discussed in class, there is a problem here, which is that we're not ignoring the missing entries. You could get around this by optimizing the PCA objective with gradient descent, say using `findMin` from previous assignments. But we're just going to ignore that for now, as the assignment seems long enough as it is (or at least it's hard for me to judge how long it will take because it's new)."
   ]
  },
  {
   "cell_type": "code",
   "execution_count": 98,
   "metadata": {},
   "outputs": [
    {
     "name": "stdout",
     "output_type": "stream",
     "text": [
      "https://www.amazon.com/dp/B000H1SJ8C\n",
      "https://www.amazon.com/dp/B000MVLB8W\n",
      "https://www.amazon.com/dp/B000X9BNG8\n",
      "https://www.amazon.com/dp/B001VNC3Q4\n",
      "https://www.amazon.com/dp/B004WB77L8\n",
      "https://www.amazon.com/dp/B00CFM0P7Y\n",
      "[[  432.   179.   232.   136.   207.  1244.]]\n"
     ]
    }
   ],
   "source": [
    "svd = TruncatedSVD(n_components=10);\n",
    "svd.fit(X);\n",
    "W = svd.components_;\n",
    "W_transpose = W.T;\n",
    "nn = 5;\n",
    "neigh = NearestNeighbors(nn + 1);\n",
    "neigh.fit(W_transpose);\n",
    "grill_brush_W_vec = W_transpose[grill_brush_ind,:]\n",
    "A = neigh.kneighbors_graph(grill_brush_W_vec.T[None],6).toarray();\n",
    "indices_svd = A.nonzero()[1];\n",
    "for index in indices_svd:\n",
    "    item = item_inverse_mapper[index];\n",
    "    print(url_amazon % item);\n",
    "    \n",
    "#total popularities of nearest neighbors using PCA then Nearest Neighbours with Euclidean distances\n",
    "popularities_svd = np.sum(X[:,indices_svd], axis = 0);\n",
    "print(popularities_svd);"
   ]
  },
  {
   "cell_type": "markdown",
   "metadata": {},
   "source": [
    "Names of the 5 most similar items found in this way (excluding the item itself):\n",
    "* Weber 3741001 Genesis E-310 Propane Gas Grill, Black\n",
    "* Classic Accessories Terrazzo Rectangular/Oval Patio Table Cover - All Weather Protection Outdoor Furniture Cover (58242-EC)\n",
    "* Classic Accessories Veranda Day Chaise Cover, Pebble For Wider Chaises Up To 66 Inches Long, 33.5 Inches Wide, 33 Inches High\n",
    "* Weber 6417 All-Purpose Summit Drip Pan, 10-Pack\n",
    "* Page Not Found for B004WB77L8 :(\n",
    "\n",
    "Popularities:\n",
    "Note that these items are all fairly popular, with total stars above 100. The results thus look more similar (in terms of total popularity) to those from using the cosine similarity. "
   ]
  },
  {
   "cell_type": "markdown",
   "metadata": {},
   "source": [
    "## Exercise 2: putting it all together in a CPSC 340 \"mini-project\"\n",
    "rubric={reasoning:25}\n",
    "\n",
    "In this open-ended mini-project, you'll explore the [UCI default of credit card clients data set](https://archive.ics.uci.edu/ml/datasets/default+of+credit+card+clients). There are 30,000 examples and 24 features, and the goal is to estimate whether a person will default (fail to pay) their credit card bills; this column is labeled \"default payment next month\" in the data. The rest of the columns can be used as features. \n",
    "\n",
    "\n",
    "\n",
    "**Your tasks:**\n",
    "\n",
    "1. Download the data set and load it in. Since the data comes as an MS Excel file, I suggest using [`pandas.read_excel`](https://pandas.pydata.org/pandas-docs/stable/generated/pandas.read_excel.html) to read it in. See [Lecture 2](https://github.ugrad.cs.ubc.ca/CPSC340-2017W-T2/home/blob/master/lectures/L2.ipynb) for an example of using pandas.\n",
    "2. Perform exploratory data analysis on the data set. Include at least two summary statistics and two visualizations that you find useful, and accompany each one with a sentence explaining it.\n",
    "3. Randomly split the data into train, validation, test sets. The validation set will be used for your experiments. The test set should be saved until the end, to make sure you didn't overfit on the validation set. You are welcome to use scikit-learn's [train_test_split](http://scikit-learn.org/stable/modules/generated/sklearn.model_selection.train_test_split.html), which takes care of both shuffling and splitting. \n",
    "4. Try scikit-learn's [DummyClassifier](http://scikit-learn.org/stable/modules/generated/sklearn.dummy.DummyClassifier.html) as a baseline model.\n",
    "5. Try logistic regression as a first real attempt. Make a plot of train/validation error vs. regularization strength. What’s the lowest validation error you can get?\n",
    "6. Explore the features, which are described on the UCI site. Explore preprocessing the features, in terms of transforming non-numerical variables, feature scaling, change of basis, etc. Did this improve your results?\n",
    "7. Try 3 other models aside from logistic regression, at least one of which is a neural network. Can you beat logistic regression? (For the neural net(s), the simplest choice would probably be to use scikit-learn's [MLPClassifier](http://scikit-learn.org/stable/modules/generated/sklearn.neural_network.MLPClassifier.html), but you are welcome to use any software you wish. )\n",
    "8. Make some attempts to optimize hyperparameters for the models you've tried and summarize your results. In at least one case you should be optimizing multiple hyperparameters for a single model. I won't make it a strict requirement, but I recommend checking out one of the following (the first two are simple scikit-learn tools, the latter two are much more sophisticated algorithms and require installing new packages): \n",
    "  - [GridSearchCV](http://scikit-learn.org/stable/modules/generated/sklearn.model_selection.GridSearchCV.html)   \n",
    "  - [RandomizedSearchCV](http://scikit-learn.org/stable/modules/generated/sklearn.model_selection.RandomizedSearchCV.html)\n",
    "  - [hyperopt-sklearn](https://github.com/hyperopt/hyperopt-sklearn)\n",
    "  - [scikit-optimize](https://github.com/scikit-optimize/scikit-optimize)\n",
    "9. Explore feature selection for this problem. What are some particularly relevant and irrelevant features? Can you improve on your original logistic regression model if you first remove some irrelevant features?\n",
    "10. Take your best model overall. Train it on the combined train/validation set and run it on the test set once. Does the test error agree fairly well with the validation error from before? Do you think you’ve had issues with optimization bias? Report your final test error directly in your README.md file as well as in your report.\n",
    "\n",
    "**Submission format:**\n",
    "Your submission should take the form of a \"report\" that includes both code and an explanation of what you've done. You don't have to include everything you ever tried - it's fine just to have your final code - but it should be reproducible. For example, if you chose your hyperparameters based on some hyperparameter optimization experiment, you should leave in the code for that experiment so that someone else could re-run it and obtain the same hyperparameters, rather than mysteriously just setting the hyperparameters to some (carefully chosen) values in your code.\n",
    "\n",
    "**Assessment:**\n",
    "We plan to grade and fairly leniently. We don't have some secret target accuracy that you need to achieve to get a good grade. You'll be assessed on demonstration of mastery of course topics, clear presentation, and the quality of your analysis and results. For example, if you write something like, \"And then I noticed the model was overfitting, so I decided to stop using regularization\" - then, well, that's not good. If you just have a bunch of code and no text or figures, that's not good. If you do a bunch of sane things and get a lower accuracy than your friend, don't sweat it.\n",
    "\n",
    "**And...**\n",
    "This style of this \"project\" question is different from other assignments. It'll be up to you to decide when you're \"done\" -- in fact, this is one of the hardest parts of real projects. But please don't spend WAY too much time on this... perhaps \"a few hours\" (2-6 hours???) is a good guideline for a typical submission. Of course if you're having fun you're welcome to spend as much time as you want! But, if so, don't do it out of perfectionism... do it because you're learning and enjoying it.\n",
    "\n"
   ]
  },
  {
   "cell_type": "code",
   "execution_count": null,
   "metadata": {
    "collapsed": true,
    "scrolled": true
   },
   "outputs": [],
   "source": [
    "# Step 1: Loading data\n",
    "credits_pd = pd.read_excel(\"../data/credits.xls\");\n",
    "\n",
    "# remove row containing names of the columns\n",
    "credits_pd = credits_pd.drop(['ID']);\n",
    "\n",
    "credits = credits_pd.values;\n",
    "X = credits[:,0:credits.shape[1]-2];\n",
    "\n",
    "# fix education values\n",
    "indices = X[:,2] == 0;\n",
    "X[indices,2] = 4;\n",
    "indices = X[:,2] > 4;\n",
    "X[indices,2] = 4;\n",
    "\n",
    "# fix marital status values\n",
    "indices = X[:,3] == 0;\n",
    "X[indices,3] = 3;\n",
    "\n",
    "# fix past bill repayment status values\n",
    "for i in range(5,10):\n",
    "    indices = X[:,i] == -2;\n",
    "    X[indices,i] = -1; \n",
    "    indices = X[:,i] == 0;\n",
    "    X[indices,i] = -1;\n",
    "\n",
    "\n",
    "y = credits[:,credits.shape[1]-1];\n",
    "\n",
    "\n",
    "# Step 2: Exploratory Data Analysis\n",
    "print('Shape of the data:',credits.shape);\n",
    "# 2.1: Summary Statistics\n",
    "print('\\nSummary Statistics:');\n",
    "# a: credit balance\n",
    "print('(a) Average amount of credit:',credits_pd['X1'].mean());\n",
    "print('(a) Standard deviation of amount of credit:',credits_pd['X1'].std());\n",
    "# b: gender \n",
    "print('(b) Gender frequencies:\\n', credits_pd['X2'].value_counts(normalize=True));\n",
    "# c: education level\n",
    "print('(c) Education level frequencies:\\n', credits_pd['X3'].value_counts(normalize=True));\n",
    "print('(c) Most common level of education:',credits_pd['X3'].mode()[0]);\n",
    "# d: marital status\n",
    "print('(d) Most common marital status:',credits_pd['X4'].mode()[0]);\n",
    "\n",
    "# 2.2: Visualizations\n",
    "print('\\nVisualizations:');\n",
    "# a: credit balance\n",
    "print('(a) boxplot of credit balance:')\n",
    "plt.boxplot(x=[X[:,0]], sym=None,showfliers=True);\n",
    "plt.show();\n",
    "print('(b) scatterplot of credit balance vs. repayment status in Sept 2005:');\n",
    "plt.scatter(X[:,5], X[:,0])\n",
    "plt.xlabel('repayment status in Sept 2005')\n",
    "plt.ylabel('credit balance');\n",
    "plt.show();"
   ]
  },
  {
   "cell_type": "markdown",
   "metadata": {},
   "source": [
    "### Steps 1 + 2:        \n",
    "      \n",
    "#### Data Cleanup:      \n",
    "1. We set values for education status initially equal to 0 or greater to 4 to simply be equal to 4, as 4 signifies \"others\"\n",
    "2. We set values for marital status initially equal to 0 to simply be equal to 3, as 3 signifies \"others\"\n",
    "3. We set values for X6-X11 (history of past payment) initially equal to -2 or 0 to simply be equal to -1, as -1 signifies \"bill paid duly\", and we simply made the assumption that this is what was meant.     \n",
    "\n",
    "#### Exploratory data analysis:  \n",
    "     \n",
    "##### 2.1: Summary Statistics   \n",
    "(a) The average amount of credit is 167'484.32 dollars, with a standard deviation of 129'747.66 dollars     \n",
    "(b) The gender frequencies reveal that the most common gender is gender 2, i.e. \"female\"     \n",
    "(c) The frequences of education levels show that 2, i.e. \"university\" is the most common, as returned by the mode() function as well    \n",
    "(d) The most common marital status is 2, i.e. \"single\"     \n",
    "     \n",
    "##### 2.2: Visualizations    \n",
    "(a) We see a boxplot of the credit balance, showing the average (which we found previously), and most values are between the whiskers, with 50% of the values inside the box, as the boundaries of the box are the first and third quartiles, respectively.      \n",
    "(b) We see the values for credit balance plotted against repayment status in September 2005: For higher values of the repayment status, i.e. where there was a payment delay, we see that the credit balance was generally lower. "
   ]
  },
  {
   "cell_type": "code",
   "execution_count": 100,
   "metadata": {
    "collapsed": true
   },
   "outputs": [],
   "source": [
    "#Step 3\n",
    "X_t, X_test, y_t, y_test = train_test_split(X, y, test_size=0.2)\n",
    "X_train, X_valid, y_train, y_valid = train_test_split(X_t, y_t, test_size=0.2)\n",
    "y_test=y_test.astype('int');\n",
    "y_train=y_train.astype('int');\n",
    "y_valid=y_valid.astype('int');"
   ]
  },
  {
   "cell_type": "markdown",
   "metadata": {},
   "source": [
    "### Step 3:   "
   ]
  },
  {
   "cell_type": "code",
   "execution_count": 101,
   "metadata": {},
   "outputs": [
    {
     "name": "stdout",
     "output_type": "stream",
     "text": [
      "0.330416666667\n"
     ]
    }
   ],
   "source": [
    "#Step 4\n",
    "model = DummyClassifier();\n",
    "model.fit(X_train,y_train);\n",
    "y_pred = model.predict(X_valid);\n",
    "dummyerror = np.mean(y_pred != y_valid);\n",
    "print(dummyerror)\n",
    "\n"
   ]
  },
  {
   "cell_type": "markdown",
   "metadata": {},
   "source": [
    "### Step 4:   "
   ]
  },
  {
   "cell_type": "code",
   "execution_count": 102,
   "metadata": {},
   "outputs": [
    {
     "data": {
      "text/plain": [
       "'\\nfor i in range(rg.size):\\n    modelL2 = LogisticRegression(penalty=\\'l2\\', C=rg[i], fit_intercept=False);\\n    modelL2.fit(X_train,y_train);\\n    L2predt = modelL2.predict(X_train);\\n    errorsL2[0,i] = np.mean(L2predt != y_train);\\n    L2pred = modelL2.predict(X_valid);\\n    errorsL2[1,i] = np.mean(L2pred !=y_valid);\\n    \\nfor i in range(rg.size):\\n    modelL1 = LogisticRegression(penalty=\\'l1\\', C=rg[i], fit_intercept=False);\\n    modelL1.fit(X_train,y_train);\\n    L1predt = modelL1.predict(X_train);\\n    errorsL1[0,i] = np.mean(L1predt != y_train);\\n    L1pred = modelL1.predict(X_valid);\\n    errorsL1[1,i] = np.mean(L1pred !=y_valid);\\n    \\nprint(\"L2 regularization:\")\\nplt.plot(rg, errorsL2[0,:],label=\\'Training error\\');\\nplt.show();\\nplt.plot(rg, errorsL2[1,:],label=\\'Validation error\\');\\nplt.show();\\n\\nprint(\"L1 regularization:\")\\nplt.plot(rg, errorsL1[0,:],label=\\'Training error\\');\\nplt.show();\\nplt.plot(rg, errorsL1[1,:],label=\\'Validation error\\');\\nplt.show();\\n'"
      ]
     },
     "execution_count": 102,
     "metadata": {},
     "output_type": "execute_result"
    }
   ],
   "source": [
    "#Step 5\n",
    "\n",
    "errorsL2 = np.zeros((2,50));\n",
    "errorsL1 = np.zeros((2,50));\n",
    "rg = np.linspace(0.1, 10, 50);\n",
    "'''\n",
    "for i in range(rg.size):\n",
    "    modelL2 = LogisticRegression(penalty='l2', C=rg[i], fit_intercept=False);\n",
    "    modelL2.fit(X_train,y_train);\n",
    "    L2predt = modelL2.predict(X_train);\n",
    "    errorsL2[0,i] = np.mean(L2predt != y_train);\n",
    "    L2pred = modelL2.predict(X_valid);\n",
    "    errorsL2[1,i] = np.mean(L2pred !=y_valid);\n",
    "    \n",
    "for i in range(rg.size):\n",
    "    modelL1 = LogisticRegression(penalty='l1', C=rg[i], fit_intercept=False);\n",
    "    modelL1.fit(X_train,y_train);\n",
    "    L1predt = modelL1.predict(X_train);\n",
    "    errorsL1[0,i] = np.mean(L1predt != y_train);\n",
    "    L1pred = modelL1.predict(X_valid);\n",
    "    errorsL1[1,i] = np.mean(L1pred !=y_valid);\n",
    "    \n",
    "print(\"L2 regularization:\")\n",
    "plt.plot(rg, errorsL2[0,:],label='Training error');\n",
    "plt.show();\n",
    "plt.plot(rg, errorsL2[1,:],label='Validation error');\n",
    "plt.show();\n",
    "\n",
    "print(\"L1 regularization:\")\n",
    "plt.plot(rg, errorsL1[0,:],label='Training error');\n",
    "plt.show();\n",
    "plt.plot(rg, errorsL1[1,:],label='Validation error');\n",
    "plt.show();\n",
    "'''"
   ]
  },
  {
   "cell_type": "markdown",
   "metadata": {},
   "source": [
    "### Step 5:   "
   ]
  },
  {
   "cell_type": "code",
   "execution_count": null,
   "metadata": {
    "collapsed": true
   },
   "outputs": [],
   "source": [
    "#Step 6\n",
    "credits_pd = pd.read_excel(\"../data/credits.xls\");\n",
    "\n",
    "# remove row containing names of the columns\n",
    "credits_pd = credits_pd.drop(['ID']);\n",
    "credits = credits_pd.values;\n",
    "y = credits[:,credits.shape[1]-1];\n",
    "# drop y-values, as we extracted them\n",
    "credits_pd = credits_pd.drop(['Y'],axis = 1);\n",
    "\n",
    "# discretize the age\n",
    "ages = pd.cut(credits_pd['X5'], bins=(0,20,30,40,50,60,70,80,100));\n",
    "ages_cat = pd.get_dummies(ages)\n",
    "print(pd.concat([credits_pd, ages_cat],axis=1).head());\n",
    "# drop the original age column\n",
    "credits_pd = credits_pd.drop(['X5'],axis=1);\n",
    "\n",
    "credits = credits_pd.values;\n",
    "X = credits;\n",
    "\n",
    "# fix education values\n",
    "indices = X[:,2] == 0;\n",
    "X[indices,2] = 4;\n",
    "indices = X[:,2] > 4;\n",
    "X[indices,2] = 4;\n",
    "\n",
    "# fix marital status values\n",
    "indices = X[:,3] == 0;\n",
    "X[indices,3] = 3;\n",
    "\n",
    "# fix past bill repayment status values\n",
    "for i in range(5,10):\n",
    "    indices = X[:,i] == -2;\n",
    "    X[indices,i] = -1; \n",
    "    indices = X[:,i] == 0;\n",
    "    X[indices,i] = -1;\n",
    "\n",
    "\n",
    "X_t, X_test, y_t, y_test = train_test_split(X, y, test_size=0.2)\n",
    "X_train, X_valid, y_train, y_valid = train_test_split(X_t, y_t, test_size=0.2)\n",
    "y_test=y_test.astype('int');\n",
    "y_train=y_train.astype('int');\n",
    "y_valid=y_valid.astype('int');\n",
    "\n",
    "modelL2 = LogisticRegression(penalty='l2', C=14.75, fit_intercept=False);\n",
    "modelL2.fit(X_train,y_train);\n",
    "L2predt = modelL2.predict(X_train);    \n",
    "errorsL2_train = np.mean(L2predt != y_train);\n",
    "L2pred = modelL2.predict(X_valid);\n",
    "errorsL2_val = np.mean(L2pred !=y_valid);\n",
    "print('training error using logistic regression on transformed data',errorsL2_train);\n",
    "print('validation error using logistic regression on transformed data:', errorsL2_val);"
   ]
  },
  {
   "cell_type": "markdown",
   "metadata": {},
   "source": [
    "### Step 6:  \n",
    "We transformed the data by binning the age into intervals (0,20),(20,30),(30,40),(40,50),(50,60),(60,70),(70,80) and (80,100)."
   ]
  },
  {
   "cell_type": "code",
   "execution_count": 107,
   "metadata": {},
   "outputs": [
    {
     "name": "stdout",
     "output_type": "stream",
     "text": [
      "Random Forest validation error: 0.190\n",
      "Naive Bayes validation error: 0.215\n",
      "Neural Network validation error: 0.305\n"
     ]
    }
   ],
   "source": [
    "#Step 7\n",
    "model = RandomForestClassifier()\n",
    "model.fit(X_train, y_train)\n",
    "y_pred = model.predict(X_valid)\n",
    "v_error = np.mean(y_pred != y_valid)\n",
    "print(\"Random Forest validation error: %.3f\" % v_error)\n",
    "\n",
    "model = BernoulliNB()\n",
    "model.fit(X_train, y_train)\n",
    "y_pred = model.predict(X_valid)\n",
    "v_error = np.mean(y_pred != y_valid)\n",
    "print(\"Naive Bayes validation error: %.3f\" % v_error)\n",
    "\n",
    "model = MLPClassifier();\n",
    "model.fit(X_train,y_train)\n",
    "y_pred = model.predict(X_valid);\n",
    "v_error = np.mean(y_pred != y_valid)\n",
    "print(\"Neural Network validation error: %.3f\" % v_error);"
   ]
  },
  {
   "cell_type": "markdown",
   "metadata": {},
   "source": [
    "### Step 7:   "
   ]
  },
  {
   "cell_type": "code",
   "execution_count": null,
   "metadata": {
    "collapsed": true
   },
   "outputs": [],
   "source": [
    "#Step 8"
   ]
  },
  {
   "cell_type": "markdown",
   "metadata": {},
   "source": [
    "### Step 8:   "
   ]
  },
  {
   "cell_type": "code",
   "execution_count": null,
   "metadata": {
    "collapsed": true
   },
   "outputs": [],
   "source": [
    "#Step 9"
   ]
  },
  {
   "cell_type": "markdown",
   "metadata": {},
   "source": [
    "### Step 9:   "
   ]
  },
  {
   "cell_type": "code",
   "execution_count": null,
   "metadata": {
    "collapsed": true
   },
   "outputs": [],
   "source": [
    "#Step 10"
   ]
  },
  {
   "cell_type": "markdown",
   "metadata": {},
   "source": [
    "### Step 10:   "
   ]
  },
  {
   "cell_type": "markdown",
   "metadata": {},
   "source": [
    "## Exercise 3: Very short answer questions\n",
    "rubric={reasoning:7}\n",
    "\n",
    "1. Why is it difficult for a standard collaborative filtering model to make good predictions for new items?\n",
    "2. Consider a fully connected neural network with layer sizes (10,20,20,5); that is, the input dimensionality is 10, there are two hidden layers each of size 20, and the output dimensionality is 5. How many parameters does the network have, including biases?\n",
    "3. Why do we need nonlinear activation functions in neural networks?\n",
    "4. Assuming we could globally minimize the neural network objectve, how does the depth of a neural network affect the fundamental trade-off?\n",
    "5. List 3 forms of regularization we use to prevent overfitting in neural networks.\n",
    "6. Assuming we could globally minimize the neural network objectve, how would the size of the filters in a convolutational neural network affect the fundamental trade-off?\n",
    "7. Why do people say convolutional neural networks just a special case of a fully-connected (regular) neural networks? What does this imply about the number of learned parameters?\n"
   ]
  },
  {
   "cell_type": "markdown",
   "metadata": {
    "collapsed": true
   },
   "source": [
    "### Answers:\n",
    "1. Because it predicts based on ratings, not features, and so it only works if an item already has a sufficient number of ratings.\n",
    "2. First layer: 10\\*20 = 200 (+ 20 bias)    \n",
    "Second layer: 20\\*20 = 400 (+ 20 bias)\n",
    "Final layer: 20\\*5 = 100 (+ 5 bias)\n",
    "Total: 200 + 20 + 400 + 20 + 100 + 5 = 745 parameters\n",
    "3. To increase flexibility and introduce non-linearity to the network; we don't just want a linear model\n",
    "4. It decreases the training error, so the training error no longer correctly approximates the test error\n",
    "5. Dropout, L2, Early Stopping\n",
    "6. A larger filter size means the training error will decrease, so it no longer approximates the test error\n",
    "7. They are a special case because they involve looking at smaller parts of the input, but in the same way as regular neural networks do. "
   ]
  },
  {
   "cell_type": "code",
   "execution_count": null,
   "metadata": {
    "collapsed": true
   },
   "outputs": [],
   "source": []
  }
 ],
 "metadata": {
  "anaconda-cloud": {},
  "kernelspec": {
   "display_name": "Python 3",
   "language": "python",
   "name": "python3"
  },
  "language_info": {
   "codemirror_mode": {
    "name": "ipython",
    "version": 3
   },
   "file_extension": ".py",
   "mimetype": "text/x-python",
   "name": "python",
   "nbconvert_exporter": "python",
   "pygments_lexer": "ipython3",
   "version": "3.7.0"
  }
 },
 "nbformat": 4,
 "nbformat_minor": 2
}
